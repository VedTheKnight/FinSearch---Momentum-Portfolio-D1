{
 "cells": [
  {
   "cell_type": "code",
   "execution_count": 1,
   "metadata": {},
   "outputs": [],
   "source": [
    "import yfinance as yf\n",
    "import numpy as np\n",
    "import pandas as pd\n",
    "import matplotlib.pyplot as plt\n",
    "import ta\n",
    "# import ta\n",
    "%matplotlib inline"
   ]
  },
  {
   "cell_type": "code",
   "execution_count": 2,
   "metadata": {},
   "outputs": [
    {
     "data": {
      "text/plain": [
       "0      ADANIENT.NS\n",
       "1    ADANIPORTS.NS\n",
       "2    APOLLOHOSP.NS\n",
       "3    ASIANPAINT.NS\n",
       "4      AXISBANK.NS\n",
       "Name: Symbol, dtype: object"
      ]
     },
     "execution_count": 2,
     "metadata": {},
     "output_type": "execute_result"
    }
   ],
   "source": [
    "link1 = 'https://en.wikipedia.org/wiki/NIFTY_50'\n",
    "link2 = 'https://en.wikipedia.org/wiki/NIFTY_Next_50'\n",
    "\n",
    "Stocks = pd.read_html(link1)[2].Symbol\n",
    "Next_Stocks = pd.read_html(link2)[3].Symbol\n",
    "\n",
    "Stocks += '.NS'\n",
    "Next_Stocks += '.NS'\n",
    "\n",
    "Stocks.head(5)"
   ]
  },
  {
   "cell_type": "code",
   "execution_count": 3,
   "metadata": {},
   "outputs": [],
   "source": [
    "Stocks = Stocks.to_list()\n",
    "Next_Stocks = Next_Stocks.to_list()\n",
    "\n",
    "Final_Stocks = Stocks + Next_Stocks"
   ]
  },
  {
   "cell_type": "code",
   "execution_count": 4,
   "metadata": {},
   "outputs": [
    {
     "name": "stdout",
     "output_type": "stream",
     "text": [
      "[*********************100%***********************]  100 of 100 completed\n",
      "[*********************100%***********************]  100 of 100 completed\n"
     ]
    }
   ],
   "source": [
    "Data = yf.download(Final_Stocks, start = '2019-01-01', end = '2023-07-30')['Close']\n",
    "OpenData = yf.download(Final_Stocks, start = '2019-01-01', end = '2023-07-30')['Open']"
   ]
  },
  {
   "cell_type": "markdown",
   "metadata": {},
   "source": [
    "# Sample Test"
   ]
  },
  {
   "cell_type": "code",
   "execution_count": 83,
   "metadata": {},
   "outputs": [
    {
     "name": "stdout",
     "output_type": "stream",
     "text": [
      "[*********************100%***********************]  1 of 1 completed\n"
     ]
    }
   ],
   "source": [
    "StockData = yf.download(Final_Stocks[0], start = '2019-01-01')"
   ]
  },
  {
   "cell_type": "code",
   "execution_count": 84,
   "metadata": {},
   "outputs": [],
   "source": [
    "StockData['MA_20'] = StockData.Close.rolling(20).mean()\n",
    "StockData['Vol'] = StockData.Close.rolling(20).std()\n",
    "\n",
    "# BB : Bollinger Band - Standard deviation above and below the standard moving average\n",
    "StockData['Upper_BB'] = StockData.MA_20 + (2 * StockData.Vol)\n",
    "StockData['Lower_BB'] = StockData.MA_20 - (2 * StockData.Vol)"
   ]
  },
  {
   "cell_type": "code",
   "execution_count": 85,
   "metadata": {},
   "outputs": [
    {
     "data": {
      "text/html": [
       "<div>\n",
       "<style scoped>\n",
       "    .dataframe tbody tr th:only-of-type {\n",
       "        vertical-align: middle;\n",
       "    }\n",
       "\n",
       "    .dataframe tbody tr th {\n",
       "        vertical-align: top;\n",
       "    }\n",
       "\n",
       "    .dataframe thead th {\n",
       "        text-align: right;\n",
       "    }\n",
       "</style>\n",
       "<table border=\"1\" class=\"dataframe\">\n",
       "  <thead>\n",
       "    <tr style=\"text-align: right;\">\n",
       "      <th></th>\n",
       "      <th>Open</th>\n",
       "      <th>High</th>\n",
       "      <th>Low</th>\n",
       "      <th>Close</th>\n",
       "      <th>Adj Close</th>\n",
       "      <th>Volume</th>\n",
       "      <th>MA_20</th>\n",
       "      <th>Vol</th>\n",
       "      <th>Upper_BB</th>\n",
       "      <th>Lower_BB</th>\n",
       "    </tr>\n",
       "    <tr>\n",
       "      <th>Date</th>\n",
       "      <th></th>\n",
       "      <th></th>\n",
       "      <th></th>\n",
       "      <th></th>\n",
       "      <th></th>\n",
       "      <th></th>\n",
       "      <th></th>\n",
       "      <th></th>\n",
       "      <th></th>\n",
       "      <th></th>\n",
       "    </tr>\n",
       "  </thead>\n",
       "  <tbody>\n",
       "    <tr>\n",
       "      <th>2019-01-01</th>\n",
       "      <td>160.899994</td>\n",
       "      <td>162.350006</td>\n",
       "      <td>155.449997</td>\n",
       "      <td>157.250000</td>\n",
       "      <td>155.309723</td>\n",
       "      <td>4726656</td>\n",
       "      <td>NaN</td>\n",
       "      <td>NaN</td>\n",
       "      <td>NaN</td>\n",
       "      <td>NaN</td>\n",
       "    </tr>\n",
       "    <tr>\n",
       "      <th>2019-01-02</th>\n",
       "      <td>157.000000</td>\n",
       "      <td>157.850006</td>\n",
       "      <td>152.500000</td>\n",
       "      <td>154.850006</td>\n",
       "      <td>152.939362</td>\n",
       "      <td>2735262</td>\n",
       "      <td>NaN</td>\n",
       "      <td>NaN</td>\n",
       "      <td>NaN</td>\n",
       "      <td>NaN</td>\n",
       "    </tr>\n",
       "    <tr>\n",
       "      <th>2019-01-03</th>\n",
       "      <td>154.899994</td>\n",
       "      <td>156.100006</td>\n",
       "      <td>150.300003</td>\n",
       "      <td>152.500000</td>\n",
       "      <td>150.618347</td>\n",
       "      <td>2758876</td>\n",
       "      <td>NaN</td>\n",
       "      <td>NaN</td>\n",
       "      <td>NaN</td>\n",
       "      <td>NaN</td>\n",
       "    </tr>\n",
       "    <tr>\n",
       "      <th>2019-01-04</th>\n",
       "      <td>152.100006</td>\n",
       "      <td>154.000000</td>\n",
       "      <td>150.000000</td>\n",
       "      <td>152.550003</td>\n",
       "      <td>150.667725</td>\n",
       "      <td>2777308</td>\n",
       "      <td>NaN</td>\n",
       "      <td>NaN</td>\n",
       "      <td>NaN</td>\n",
       "      <td>NaN</td>\n",
       "    </tr>\n",
       "    <tr>\n",
       "      <th>2019-01-07</th>\n",
       "      <td>152.899994</td>\n",
       "      <td>154.449997</td>\n",
       "      <td>150.250000</td>\n",
       "      <td>151.250000</td>\n",
       "      <td>149.383774</td>\n",
       "      <td>2714218</td>\n",
       "      <td>NaN</td>\n",
       "      <td>NaN</td>\n",
       "      <td>NaN</td>\n",
       "      <td>NaN</td>\n",
       "    </tr>\n",
       "    <tr>\n",
       "      <th>...</th>\n",
       "      <td>...</td>\n",
       "      <td>...</td>\n",
       "      <td>...</td>\n",
       "      <td>...</td>\n",
       "      <td>...</td>\n",
       "      <td>...</td>\n",
       "      <td>...</td>\n",
       "      <td>...</td>\n",
       "      <td>...</td>\n",
       "      <td>...</td>\n",
       "    </tr>\n",
       "    <tr>\n",
       "      <th>2023-08-21</th>\n",
       "      <td>2588.000000</td>\n",
       "      <td>2655.000000</td>\n",
       "      <td>2580.500000</td>\n",
       "      <td>2639.750000</td>\n",
       "      <td>2639.750000</td>\n",
       "      <td>10479200</td>\n",
       "      <td>2499.522498</td>\n",
       "      <td>55.012063</td>\n",
       "      <td>2609.546623</td>\n",
       "      <td>2389.498372</td>\n",
       "    </tr>\n",
       "    <tr>\n",
       "      <th>2023-08-22</th>\n",
       "      <td>2668.850098</td>\n",
       "      <td>2721.000000</td>\n",
       "      <td>2654.100098</td>\n",
       "      <td>2698.050049</td>\n",
       "      <td>2698.050049</td>\n",
       "      <td>10291468</td>\n",
       "      <td>2513.515002</td>\n",
       "      <td>67.428029</td>\n",
       "      <td>2648.371060</td>\n",
       "      <td>2378.658945</td>\n",
       "    </tr>\n",
       "    <tr>\n",
       "      <th>2023-08-23</th>\n",
       "      <td>2720.000000</td>\n",
       "      <td>2722.399902</td>\n",
       "      <td>2488.850098</td>\n",
       "      <td>2530.300049</td>\n",
       "      <td>2530.300049</td>\n",
       "      <td>5251316</td>\n",
       "      <td>2516.697510</td>\n",
       "      <td>66.596616</td>\n",
       "      <td>2649.890741</td>\n",
       "      <td>2383.504278</td>\n",
       "    </tr>\n",
       "    <tr>\n",
       "      <th>2023-08-24</th>\n",
       "      <td>2580.000000</td>\n",
       "      <td>2613.000000</td>\n",
       "      <td>2531.100098</td>\n",
       "      <td>2539.550049</td>\n",
       "      <td>2539.550049</td>\n",
       "      <td>4558367</td>\n",
       "      <td>2520.137512</td>\n",
       "      <td>65.871273</td>\n",
       "      <td>2651.880059</td>\n",
       "      <td>2388.394966</td>\n",
       "    </tr>\n",
       "    <tr>\n",
       "      <th>2023-08-25</th>\n",
       "      <td>2549.000000</td>\n",
       "      <td>2549.000000</td>\n",
       "      <td>2486.000000</td>\n",
       "      <td>2495.750000</td>\n",
       "      <td>2495.750000</td>\n",
       "      <td>2808721</td>\n",
       "      <td>2523.505017</td>\n",
       "      <td>62.573589</td>\n",
       "      <td>2648.652196</td>\n",
       "      <td>2398.357838</td>\n",
       "    </tr>\n",
       "  </tbody>\n",
       "</table>\n",
       "<p>1151 rows × 10 columns</p>\n",
       "</div>"
      ],
      "text/plain": [
       "                   Open         High          Low        Close    Adj Close  \\\n",
       "Date                                                                          \n",
       "2019-01-01   160.899994   162.350006   155.449997   157.250000   155.309723   \n",
       "2019-01-02   157.000000   157.850006   152.500000   154.850006   152.939362   \n",
       "2019-01-03   154.899994   156.100006   150.300003   152.500000   150.618347   \n",
       "2019-01-04   152.100006   154.000000   150.000000   152.550003   150.667725   \n",
       "2019-01-07   152.899994   154.449997   150.250000   151.250000   149.383774   \n",
       "...                 ...          ...          ...          ...          ...   \n",
       "2023-08-21  2588.000000  2655.000000  2580.500000  2639.750000  2639.750000   \n",
       "2023-08-22  2668.850098  2721.000000  2654.100098  2698.050049  2698.050049   \n",
       "2023-08-23  2720.000000  2722.399902  2488.850098  2530.300049  2530.300049   \n",
       "2023-08-24  2580.000000  2613.000000  2531.100098  2539.550049  2539.550049   \n",
       "2023-08-25  2549.000000  2549.000000  2486.000000  2495.750000  2495.750000   \n",
       "\n",
       "              Volume        MA_20        Vol     Upper_BB     Lower_BB  \n",
       "Date                                                                    \n",
       "2019-01-01   4726656          NaN        NaN          NaN          NaN  \n",
       "2019-01-02   2735262          NaN        NaN          NaN          NaN  \n",
       "2019-01-03   2758876          NaN        NaN          NaN          NaN  \n",
       "2019-01-04   2777308          NaN        NaN          NaN          NaN  \n",
       "2019-01-07   2714218          NaN        NaN          NaN          NaN  \n",
       "...              ...          ...        ...          ...          ...  \n",
       "2023-08-21  10479200  2499.522498  55.012063  2609.546623  2389.498372  \n",
       "2023-08-22  10291468  2513.515002  67.428029  2648.371060  2378.658945  \n",
       "2023-08-23   5251316  2516.697510  66.596616  2649.890741  2383.504278  \n",
       "2023-08-24   4558367  2520.137512  65.871273  2651.880059  2388.394966  \n",
       "2023-08-25   2808721  2523.505017  62.573589  2648.652196  2398.357838  \n",
       "\n",
       "[1151 rows x 10 columns]"
      ]
     },
     "execution_count": 85,
     "metadata": {},
     "output_type": "execute_result"
    }
   ],
   "source": [
    "StockData"
   ]
  },
  {
   "cell_type": "code",
   "execution_count": 86,
   "metadata": {},
   "outputs": [],
   "source": [
    "# Window : Look-back period for RSI calculation\n",
    "StockData['RSI'] = ta.momentum.rsi(StockData.Close, window = 6)"
   ]
  },
  {
   "cell_type": "code",
   "execution_count": 87,
   "metadata": {},
   "outputs": [],
   "source": [
    "StockData['Signal'] = np.where((StockData['RSI'] < 30) & \n",
    "                                 (StockData['Close'] < StockData['Lower_BB']), 'Buy', np.nan)\n",
    "\n",
    "StockData['Signal'] = np.where((StockData['RSI'] > 70) & \n",
    "                                 (StockData['Close'] > StockData['Upper_BB']), 'Sell', StockData['Signal'])\n",
    "\n",
    "# Buy/Sell Signal for Next Trading Day\n",
    "StockData['Signal'] = StockData['Signal'].shift()\n",
    "StockData['Signal'] = StockData['Signal'].fillna(0)\n",
    "\n",
    "StockData['Signal'] = StockData['Signal'].replace({'nan' : 0})\n",
    "\n",
    "StockData.dropna(inplace=True)"
   ]
  },
  {
   "cell_type": "code",
   "execution_count": 88,
   "metadata": {},
   "outputs": [],
   "source": [
    "# Signal is based on the Close of a day and we buy the stock at the Open of the next day\n",
    "StockData['Signal'] = StockData['Signal'].shift()"
   ]
  },
  {
   "cell_type": "code",
   "execution_count": 89,
   "metadata": {},
   "outputs": [],
   "source": [
    "StockData['Shifted_Close'] = StockData.Close.shift()"
   ]
  },
  {
   "cell_type": "code",
   "execution_count": 93,
   "metadata": {},
   "outputs": [],
   "source": [
    "# Ensuring that we Buy before we Sell\n",
    "Position  = False\n",
    "\n",
    "BuyDates, SellDates = [], []\n",
    "BuyPrices, SellPrices = [], []\n",
    "\n",
    "for index, row in StockData.iterrows():\n",
    "    if not Position and row['Signal'] == 'Buy':\n",
    "        BuyDates.append(index)\n",
    "        BuyPrices.append(row.Open)\n",
    "        Position = True\n",
    "\n",
    "    if Position:\n",
    "        if row['Signal'] == 'Sell' or row.Shifted_Close < 0.90 * BuyPrices[-1]:\n",
    "            SellDates.append(index)\n",
    "            SellPrices.append(row.Open)\n",
    "            Position = False"
   ]
  },
  {
   "cell_type": "code",
   "execution_count": 94,
   "metadata": {},
   "outputs": [
    {
     "data": {
      "text/plain": [
       "<matplotlib.collections.PathCollection at 0x16dc26f50>"
      ]
     },
     "execution_count": 94,
     "metadata": {},
     "output_type": "execute_result"
    },
    {
     "data": {
      "image/png": "[encoded data removed]",
      "text/plain": [
       "<Figure size 1000x500 with 1 Axes>"
      ]
     },
     "metadata": {},
     "output_type": "display_data"
    }
   ],
   "source": [
    "plt.figure(figsize = (10, 5))\n",
    "plt.plot(StockData.Close)\n",
    "plt.scatter(StockData.loc[BuyDates].index, \n",
    "            StockData.loc[BuyDates].Close, \n",
    "            marker = '^', color = 'black')\n",
    "\n",
    "plt.scatter(StockData.loc[SellDates].index, \n",
    "            StockData.loc[SellDates].Close, \n",
    "            marker = 'v', color = 'red')"
   ]
  },
  {
   "cell_type": "code",
   "execution_count": 95,
   "metadata": {},
   "outputs": [
    {
     "data": {
      "text/plain": [
       "0.08375332037051408"
      ]
     },
     "execution_count": 95,
     "metadata": {},
     "output_type": "execute_result"
    }
   ],
   "source": [
    "# Calculating the net Profit/Loss based on our Reversion strategy\n",
    "(pd.Series([((Sell - Buy) / Buy) for Sell, Buy in zip(SellPrices, BuyPrices)]) + 1).prod() - 1\n"
   ]
  },
  {
   "cell_type": "markdown",
   "metadata": {},
   "source": [
    "# Testing with NIFTY Data for Last 6 weeks"
   ]
  },
  {
   "cell_type": "code",
   "execution_count": 19,
   "metadata": {},
   "outputs": [],
   "source": [
    "Stockwise_PL = []\n",
    "\n",
    "EndBuy = []\n",
    "EndSell = []\n",
    "\n",
    "for stock in Final_Stocks:\n",
    "    CloseStock = Data[stock]\n",
    "    OpenStock = OpenData[stock]\n",
    "    \n",
    "    DataDict = {'Close' : CloseStock, 'Open' : OpenStock}\n",
    "\n",
    "    StockData = pd.DataFrame(DataDict)\n",
    "    \n",
    "    StockData['MA_20'] = StockData.Close.rolling(42).mean()\n",
    "   \n",
    "    \n",
    "    StockData['Vol'] = StockData.Close.rolling(42).std()\n",
    "    \n",
    "    \n",
    "\n",
    "    # BB : Bollinger Band - Standard deviation above and below the standard moving average\n",
    "    StockData['Upper_BB'] = StockData.MA_20 + (2 * StockData.Vol)\n",
    "    StockData['Lower_BB'] = StockData.MA_20 - (2 * StockData.Vol)\n",
    "\n",
    "    # Window : Look-back period for RSI calculation\n",
    "    StockData['RSI'] = ta.momentum.rsi(StockData.Close, window = 6)\n",
    "\n",
    "    StockData['Signal'] = np.where((StockData['RSI'] < 30) & \n",
    "                                 (StockData['Close'] < StockData['Lower_BB']), 'Buy', np.nan)\n",
    "\n",
    "    StockData['Signal'] = np.where((StockData['RSI'] > 70) & \n",
    "                                    (StockData['Close'] > StockData['Upper_BB']), 'Sell', StockData['Signal'])\n",
    "\n",
    "    # Buy/Sell Signal for Next Trading Day\n",
    "    StockData['Signal'] = StockData['Signal'].shift()\n",
    "    StockData['Signal'] = StockData['Signal'].fillna(0)\n",
    "\n",
    "    StockData['Signal'] = StockData['Signal'].replace({'nan' : 0})\n",
    "\n",
    "    StockData.dropna(inplace=True)\n",
    "\n",
    "    # Signal is based on the Close of a day and we buy the stock at the Open of the next day\n",
    "    StockData['Signal'] = StockData['Signal'].shift()\n",
    "    StockData['Shifted_Close'] = StockData.Close.shift()\n",
    "    \n",
    "    # print(StockData)\n",
    "    # Ensuring that we Buy before we Sell\n",
    "    Position  = False\n",
    "\n",
    "    BuyDates, SellDates = [], []\n",
    "    BuyPrices, SellPrices = [], []\n",
    "\n",
    "    for index, row in StockData.iterrows():\n",
    "        if not Position and row['Signal'] == 'Buy':\n",
    "            BuyDates.append(index)\n",
    "            BuyPrices.append(row.Open)\n",
    "            Position = True\n",
    "\n",
    "        if Position:\n",
    "            if row['Signal'] == 'Sell' or row.Shifted_Close < 0.90 * BuyPrices[-1]:\n",
    "                SellDates.append(index)\n",
    "                SellPrices.append(row.Open)\n",
    "                Position = False\n",
    "\n",
    "    # print(SellPrices)\n",
    "    if not Position:\n",
    "        EndBuy.append(stock)\n",
    "    else:\n",
    "        EndSell.append(stock)\n",
    "    \n",
    "    # Calculating the net Profit/Loss based on our Reversion strategy\n",
    "    # Calculating the net Profit/Loss based on our Reversion strategy\n",
    "    returns = pd.Series([((Sell - Buy) / Buy) for Sell, Buy in zip(SellPrices, BuyPrices)])\n",
    "    cumulative_returns = returns + 1\n",
    "    cumulative_return = cumulative_returns.prod() - 1\n",
    "\n",
    "    # print(cumulative_return)\n",
    "\n",
    "    Stockwise_PL.append(cumulative_return)\n",
    "\n",
    "    \n",
    "    "
   ]
  },
  {
   "cell_type": "code",
   "execution_count": 20,
   "metadata": {},
   "outputs": [
    {
     "data": {
      "text/html": [
       "<div>\n",
       "<style scoped>\n",
       "    .dataframe tbody tr th:only-of-type {\n",
       "        vertical-align: middle;\n",
       "    }\n",
       "\n",
       "    .dataframe tbody tr th {\n",
       "        vertical-align: top;\n",
       "    }\n",
       "\n",
       "    .dataframe thead th {\n",
       "        text-align: right;\n",
       "    }\n",
       "</style>\n",
       "<table border=\"1\" class=\"dataframe\">\n",
       "  <thead>\n",
       "    <tr style=\"text-align: right;\">\n",
       "      <th></th>\n",
       "      <th>Stock</th>\n",
       "      <th>Profit/Loss</th>\n",
       "    </tr>\n",
       "  </thead>\n",
       "  <tbody>\n",
       "    <tr>\n",
       "      <th>0</th>\n",
       "      <td>ADANIENT.NS</td>\n",
       "      <td>0.010521</td>\n",
       "    </tr>\n",
       "    <tr>\n",
       "      <th>1</th>\n",
       "      <td>ADANIPORTS.NS</td>\n",
       "      <td>0.391683</td>\n",
       "    </tr>\n",
       "    <tr>\n",
       "      <th>2</th>\n",
       "      <td>APOLLOHOSP.NS</td>\n",
       "      <td>0.249673</td>\n",
       "    </tr>\n",
       "    <tr>\n",
       "      <th>3</th>\n",
       "      <td>ASIANPAINT.NS</td>\n",
       "      <td>0.661034</td>\n",
       "    </tr>\n",
       "    <tr>\n",
       "      <th>4</th>\n",
       "      <td>AXISBANK.NS</td>\n",
       "      <td>0.074310</td>\n",
       "    </tr>\n",
       "    <tr>\n",
       "      <th>...</th>\n",
       "      <td>...</td>\n",
       "      <td>...</td>\n",
       "    </tr>\n",
       "    <tr>\n",
       "      <th>95</th>\n",
       "      <td>TORNTPHARM.NS</td>\n",
       "      <td>1.303515</td>\n",
       "    </tr>\n",
       "    <tr>\n",
       "      <th>96</th>\n",
       "      <td>MCDOWELL-N.NS</td>\n",
       "      <td>0.262489</td>\n",
       "    </tr>\n",
       "    <tr>\n",
       "      <th>97</th>\n",
       "      <td>VBL.NS</td>\n",
       "      <td>1.064406</td>\n",
       "    </tr>\n",
       "    <tr>\n",
       "      <th>98</th>\n",
       "      <td>VEDL.NS</td>\n",
       "      <td>0.362709</td>\n",
       "    </tr>\n",
       "    <tr>\n",
       "      <th>99</th>\n",
       "      <td>ZOMATO.NS</td>\n",
       "      <td>0.176353</td>\n",
       "    </tr>\n",
       "  </tbody>\n",
       "</table>\n",
       "<p>100 rows × 2 columns</p>\n",
       "</div>"
      ],
      "text/plain": [
       "            Stock  Profit/Loss\n",
       "0     ADANIENT.NS     0.010521\n",
       "1   ADANIPORTS.NS     0.391683\n",
       "2   APOLLOHOSP.NS     0.249673\n",
       "3   ASIANPAINT.NS     0.661034\n",
       "4     AXISBANK.NS     0.074310\n",
       "..            ...          ...\n",
       "95  TORNTPHARM.NS     1.303515\n",
       "96  MCDOWELL-N.NS     0.262489\n",
       "97         VBL.NS     1.064406\n",
       "98        VEDL.NS     0.362709\n",
       "99      ZOMATO.NS     0.176353\n",
       "\n",
       "[100 rows x 2 columns]"
      ]
     },
     "execution_count": 20,
     "metadata": {},
     "output_type": "execute_result"
    }
   ],
   "source": [
    "Final_Results = { 'Stock' : Final_Stocks, \n",
    "                  'Profit/Loss' : Stockwise_PL}\n",
    "\n",
    "Results = pd.DataFrame(Final_Results)\n",
    "\n",
    "Results"
   ]
  },
  {
   "cell_type": "code",
   "execution_count": 21,
   "metadata": {},
   "outputs": [
    {
     "name": "stdout",
     "output_type": "stream",
     "text": [
      "76        INDIGO.NS\n",
      "57    BAJAJHLDNG.NS\n",
      "37      RELIANCE.NS\n",
      "95    TORNTPHARM.NS\n",
      "83    MUTHOOTFIN.NS\n",
      "51           ACC.NS\n",
      "86         PIIND.NS\n",
      "34          NTPC.NS\n",
      "97           VBL.NS\n",
      "36     POWERGRID.NS\n",
      "Name: Stock, dtype: object\n"
     ]
    }
   ],
   "source": [
    "Largest10 = Results.nlargest(10, 'Profit/Loss')\n",
    "\n",
    "TopStocks = Largest10['Stock']\n",
    "\n",
    "print(TopStocks)"
   ]
  },
  {
   "cell_type": "code",
   "execution_count": 22,
   "metadata": {},
   "outputs": [
    {
     "name": "stdout",
     "output_type": "stream",
     "text": [
      "               0\n",
      "0   EICHERMOT.NS\n",
      "1  HINDUNILVR.NS\n",
      "2   KOTAKBANK.NS\n",
      "3        LTIM.NS\n",
      "4         UPL.NS\n",
      "5  ADANITRANS.NS\n",
      "6         SRF.NS\n"
     ]
    }
   ],
   "source": [
    "# We find the stocks whose last action at the end of the observation period was Buy or Sell.\n",
    "# Since we are interested in Buying Stocks, we drop the Stocks whose Position is Sell from our basket \n",
    "# We then optimise our purchase of stocks by checking the momentum of the remaining stocks\n",
    "EndBuy = pd.DataFrame(EndBuy)\n",
    "EndSell = pd.DataFrame(EndSell)\n",
    "print(EndSell)\n"
   ]
  }
 ],
 "metadata": {
  "kernelspec": {
   "display_name": "base",
   "language": "python",
   "name": "python3"
  },
  "language_info": {
   "codemirror_mode": {
    "name": "ipython",
    "version": 3
   },
   "file_extension": ".py",
   "mimetype": "text/x-python",
   "name": "python",
   "nbconvert_exporter": "python",
   "pygments_lexer": "ipython3",
   "version": "3.10.6"
  },
  "orig_nbformat": 4
 },
 "nbformat": 4,
 "nbformat_minor": 2
}
